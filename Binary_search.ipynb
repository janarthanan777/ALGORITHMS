{
  "nbformat": 4,
  "nbformat_minor": 0,
  "metadata": {
    "colab": {
      "provenance": [],
      "authorship_tag": "ABX9TyPp8Id7eECOqs30St0kuOxI",
      "include_colab_link": true
    },
    "kernelspec": {
      "name": "python3",
      "display_name": "Python 3"
    },
    "language_info": {
      "name": "python"
    }
  },
  "cells": [
    {
      "cell_type": "markdown",
      "metadata": {
        "id": "view-in-github",
        "colab_type": "text"
      },
      "source": [
        "<a href=\"https://colab.research.google.com/github/janarthanan777/ALGORITHMS/blob/main/Binary_search.ipynb\" target=\"_parent\"><img src=\"https://colab.research.google.com/assets/colab-badge.svg\" alt=\"Open In Colab\"/></a>"
      ]
    },
    {
      "cell_type": "code",
      "execution_count": 1,
      "metadata": {
        "id": "eTm9s97pNmdH"
      },
      "outputs": [],
      "source": [
        "## Binary Search"
      ]
    },
    {
      "cell_type": "code",
      "source": [
        "def bin_search(arr, low, high, key):\n",
        "  mid = round((low + high)/2)\n",
        "  if arr[mid] > key:\n",
        "    bin_search(arr, low, mid - 1, key)\n",
        "  elif arr[mid] < key:\n",
        "    bin_search(arr, mid + 1, high, key)\n",
        "  else:\n",
        "    print(mid)\n",
        "l = [4, 6, 9, 1, 2, 5, 8]\n",
        "l.sort()\n",
        "low = 0\n",
        "high = len(l) - 1\n",
        "key = 5\n",
        "bin_search(l, low, high, key)\n"
      ],
      "metadata": {
        "colab": {
          "base_uri": "https://localhost:8080/"
        },
        "id": "BHvj4IQaNqR0",
        "outputId": "d5cc060c-df19-4da8-de55-f3045ddd7088"
      },
      "execution_count": 16,
      "outputs": [
        {
          "output_type": "stream",
          "name": "stdout",
          "text": [
            "3\n"
          ]
        }
      ]
    },
    {
      "cell_type": "code",
      "source": [],
      "metadata": {
        "id": "Uj9_3oI4Ph-v"
      },
      "execution_count": null,
      "outputs": []
    }
  ]
}