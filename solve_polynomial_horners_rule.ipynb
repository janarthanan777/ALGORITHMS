{
  "nbformat": 4,
  "nbformat_minor": 0,
  "metadata": {
    "colab": {
      "provenance": [],
      "authorship_tag": "ABX9TyOdlIbeugdEQX97ovLX8nEP",
      "include_colab_link": true
    },
    "kernelspec": {
      "name": "python3",
      "display_name": "Python 3"
    },
    "language_info": {
      "name": "python"
    }
  },
  "cells": [
    {
      "cell_type": "markdown",
      "metadata": {
        "id": "view-in-github",
        "colab_type": "text"
      },
      "source": [
        "<a href=\"https://colab.research.google.com/github/janarthanan777/ALGORITHMS/blob/Chapter-2/solve_polynomial_horners_rule.ipynb\" target=\"_parent\"><img src=\"https://colab.research.google.com/assets/colab-badge.svg\" alt=\"Open In Colab\"/></a>"
      ]
    },
    {
      "cell_type": "markdown",
      "source": [
        "## Horner's rule\n",
        " solve polynomial equation using coefficients and value of x"
      ],
      "metadata": {
        "id": "IOxzCTRrJM_W"
      }
    },
    {
      "cell_type": "code",
      "source": [
        "def horner(arr, x):\n",
        "  result = arr[0]\n",
        "  for i in arr[1:]:\n",
        "    result = result * x + i\n",
        "  return result\n",
        "\n",
        "l = [2, -6, 2, -1]\n",
        "print(horner(l, 3))"
      ],
      "metadata": {
        "colab": {
          "base_uri": "https://localhost:8080/"
        },
        "id": "U6Ff_PJYJZ5j",
        "outputId": "abeef4a6-67c5-4b07-c857-9f8f7c4e8e3f"
      },
      "execution_count": 18,
      "outputs": [
        {
          "output_type": "stream",
          "name": "stdout",
          "text": [
            "5\n"
          ]
        }
      ]
    },
    {
      "cell_type": "code",
      "source": [],
      "metadata": {
        "id": "v3KvZRzlK7ke"
      },
      "execution_count": null,
      "outputs": []
    }
  ]
}