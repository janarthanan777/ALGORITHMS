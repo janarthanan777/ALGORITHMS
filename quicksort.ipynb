{
  "nbformat": 4,
  "nbformat_minor": 0,
  "metadata": {
    "colab": {
      "provenance": [],
      "collapsed_sections": [],
      "authorship_tag": "ABX9TyN0QEQEG6xGUJ+BGhZN6Tkz",
      "include_colab_link": true
    },
    "kernelspec": {
      "name": "python3",
      "display_name": "Python 3"
    },
    "language_info": {
      "name": "python"
    }
  },
  "cells": [
    {
      "cell_type": "markdown",
      "metadata": {
        "id": "view-in-github",
        "colab_type": "text"
      },
      "source": [
        "<a href=\"https://colab.research.google.com/github/janarthanan777/ALGORITHMS/blob/Chapter-4/quicksort.ipynb\" target=\"_parent\"><img src=\"https://colab.research.google.com/assets/colab-badge.svg\" alt=\"Open In Colab\"/></a>"
      ]
    },
    {
      "cell_type": "code",
      "execution_count": 22,
      "metadata": {
        "colab": {
          "base_uri": "https://localhost:8080/"
        },
        "id": "qrZMC2sQQZzX",
        "outputId": "7abe9c02-3fdc-48d4-a7a7-fd43fa289415"
      },
      "outputs": [
        {
          "output_type": "stream",
          "name": "stdout",
          "text": [
            "[1, 2, 3, 4, 4, 5, 6, 7, 8, 9]\n"
          ]
        }
      ],
      "source": [
        "def partition(custList, low, high):\n",
        "    pivot = custList[high]\n",
        "    i = low\n",
        "    j = high - 1\n",
        "    while i < j:\n",
        "        while i < len(custList) and custList[i] < pivot: ## If we use <= it will go and also incude the pivot element, we want everything but the pivot element\n",
        "            i += 1\n",
        "        while j >= 0 and custList[j] >= pivot: ## If this one chooses element = pivot then it is fine,but if I is allowed to choose then it would end up choosing the pivot elmnt\n",
        "            j -= 1\n",
        "        if i < j:\n",
        "            custList[i], custList[j] = custList[j], custList[i]\n",
        "    if custList[i] > pivot:\n",
        "        custList[i], custList[high] = custList[high], custList[i]\n",
        "    return i\n",
        " \n",
        "def quickSort(lstt, low, high):\n",
        "    if low < high:\n",
        "        pi= partition(lstt, low, high)\n",
        "        quickSort(lstt, low, pi-1)\n",
        "        quickSort(lstt, pi+1, high)\n",
        "    return lstt\n",
        " \n",
        "lst = [5,9,6,3,4,4,1,2,7,8]\n",
        "print(quickSort(lst, 0, (len(lst)-1)))"
      ]
    },
    {
      "cell_type": "code",
      "source": [],
      "metadata": {
        "id": "-hjSR2oIR2iI"
      },
      "execution_count": null,
      "outputs": []
    }
  ]
}