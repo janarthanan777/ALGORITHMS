{
  "nbformat": 4,
  "nbformat_minor": 0,
  "metadata": {
    "colab": {
      "provenance": [],
      "authorship_tag": "ABX9TyNunlU3xYTOnnIDCDqQkLT8",
      "include_colab_link": true
    },
    "kernelspec": {
      "name": "python3",
      "display_name": "Python 3"
    },
    "language_info": {
      "name": "python"
    }
  },
  "cells": [
    {
      "cell_type": "markdown",
      "metadata": {
        "id": "view-in-github",
        "colab_type": "text"
      },
      "source": [
        "<a href=\"https://colab.research.google.com/github/janarthanan777/ALGORITHMS/blob/Chapter-4/Merge_sort.ipynb\" target=\"_parent\"><img src=\"https://colab.research.google.com/assets/colab-badge.svg\" alt=\"Open In Colab\"/></a>"
      ]
    },
    {
      "cell_type": "markdown",
      "source": [
        "## Merge sort"
      ],
      "metadata": {
        "id": "yLI6aYtG20ed"
      }
    },
    {
      "cell_type": "code",
      "execution_count": 12,
      "metadata": {
        "id": "6Zke_D_A2wld",
        "colab": {
          "base_uri": "https://localhost:8080/"
        },
        "outputId": "0c963d05-be80-4d8c-b0f5-ed81f8e24f28"
      },
      "outputs": [
        {
          "output_type": "stream",
          "name": "stdout",
          "text": [
            "[1, 2, 3, 4, 5, 6, 7, 8]\n"
          ]
        }
      ],
      "source": [
        "def merge(custList, low, mid, high):\n",
        "  n1 = mid - low + 1\n",
        "  n2 = high - mid\n",
        "  left = [0] * n1\n",
        "  right = [0] * n2\n",
        "  for i in range(n1):\n",
        "    left[i] = custList[low + i]\n",
        "  for j in range(n2):\n",
        "    right[j] = custList[mid + 1 + j]\n",
        "  i = 0\n",
        "  k = low\n",
        "  j = 0\n",
        "  while i < n1 and j < n2: \n",
        "    if left[i] < right[j]:\n",
        "      custList[k] = left[i]\n",
        "      i += 1\n",
        "      k += 1\n",
        "    else:\n",
        "      custList[k] = right[j]\n",
        "      j += 1\n",
        "      k += 1\n",
        "  while i < n1:\n",
        "    custList[k] = left[i]\n",
        "    i += 1\n",
        "    k += 1\n",
        "  while j < n2:\n",
        "    custList[k] = right[j]\n",
        "    j += 1\n",
        "    k += 1\n",
        "\n",
        "def mergeSort(custList, low, high):\n",
        "  if low < high:\n",
        "    mid = (low + (high - 1))//2\n",
        "    mergeSort(custList, low, mid)\n",
        "    mergeSort(custList, mid + 1, high)\n",
        "    merge(custList, low, mid, high)\n",
        "\n",
        "  return custList\n",
        "l = [8, 7, 6, 5, 4, 3, 2, 1]\n",
        "print(mergeSort(l, 0, len(l) - 1))"
      ]
    },
    {
      "cell_type": "code",
      "source": [],
      "metadata": {
        "id": "3oV2VM1BwNjO"
      },
      "execution_count": null,
      "outputs": []
    }
  ]
}